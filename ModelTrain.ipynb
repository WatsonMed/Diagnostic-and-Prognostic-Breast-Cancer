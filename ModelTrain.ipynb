{
  "nbformat": 4,
  "nbformat_minor": 0,
  "metadata": {
    "colab": {
      "name": "BCan.ipynb",
      "version": "0.3.2",
      "views": {},
      "default_view": {},
      "provenance": []
    },
    "kernelspec": {
      "name": "python2",
      "display_name": "Python 2"
    },
    "accelerator": "GPU"
  },
  "cells": [
    {
      "metadata": {
        "id": "tKIz_mTTvFOP",
        "colab_type": "code",
        "colab": {
          "autoexec": {
            "startup": false,
            "wait_interval": 0
          },
          "output_extras": [
            {
              "item_id": 2
            }
          ],
          "base_uri": "https://localhost:8080/",
          "height": 323
        },
        "outputId": "58cd2a8d-4ac2-4d12-cf58-788864ea2bb5",
        "executionInfo": {
          "status": "ok",
          "timestamp": 1519927841010,
          "user_tz": -330,
          "elapsed": 1796,
          "user": {
            "displayName": "Anmol Dua",
            "photoUrl": "https://lh3.googleusercontent.com/a/default-user=s128",
            "userId": "105983295350785523892"
          }
        }
      },
      "cell_type": "code",
      "source": [
        "!pip install deap update_checker tqdm stopit xgboost tpot"
      ],
      "execution_count": 4,
      "outputs": [
        {
          "output_type": "stream",
          "text": [
            "Requirement already satisfied: deap in /usr/local/lib/python2.7/dist-packages\r\n",
            "Requirement already satisfied: update_checker in /usr/local/lib/python2.7/dist-packages\r\n",
            "Requirement already satisfied: tqdm in /usr/local/lib/python2.7/dist-packages\n",
            "Requirement already satisfied: stopit in /usr/local/lib/python2.7/dist-packages\n",
            "Requirement already satisfied: xgboost in /usr/local/lib/python2.7/dist-packages\n",
            "Requirement already satisfied: tpot in /usr/local/lib/python2.7/dist-packages\n",
            "Requirement already satisfied: requests>=2.3.0 in /usr/local/lib/python2.7/dist-packages (from update_checker)\n",
            "Requirement already satisfied: scipy in /usr/local/lib/python2.7/dist-packages (from xgboost)\n",
            "Requirement already satisfied: numpy in /usr/local/lib/python2.7/dist-packages (from xgboost)\n",
            "Requirement already satisfied: pandas>=0.20.2 in /usr/local/lib/python2.7/dist-packages (from tpot)\n",
            "Requirement already satisfied: scikit-learn>=0.18.1 in /usr/local/lib/python2.7/dist-packages (from tpot)\n",
            "Requirement already satisfied: idna<2.7,>=2.5 in /usr/local/lib/python2.7/dist-packages (from requests>=2.3.0->update_checker)\n",
            "Requirement already satisfied: urllib3<1.23,>=1.21.1 in /usr/local/lib/python2.7/dist-packages (from requests>=2.3.0->update_checker)\n",
            "Requirement already satisfied: certifi>=2017.4.17 in /usr/local/lib/python2.7/dist-packages (from requests>=2.3.0->update_checker)\n",
            "Requirement already satisfied: chardet<3.1.0,>=3.0.2 in /usr/local/lib/python2.7/dist-packages (from requests>=2.3.0->update_checker)\n",
            "Requirement already satisfied: pytz>=2011k in /usr/local/lib/python2.7/dist-packages (from pandas>=0.20.2->tpot)\n",
            "Requirement already satisfied: python-dateutil in /usr/local/lib/python2.7/dist-packages (from pandas>=0.20.2->tpot)\n",
            "Requirement already satisfied: six>=1.5 in /usr/local/lib/python2.7/dist-packages (from python-dateutil->pandas>=0.20.2->tpot)\n"
          ],
          "name": "stdout"
        }
      ]
    },
    {
      "metadata": {
        "id": "ozuBxJRgwyv1",
        "colab_type": "code",
        "colab": {
          "autoexec": {
            "startup": false,
            "wait_interval": 0
          },
          "output_extras": [
            {
              "item_id": 3
            }
          ],
          "base_uri": "https://localhost:8080/",
          "height": 615
        },
        "outputId": "3dd1b83f-1239-4fe1-f3f1-066c1e951847",
        "executionInfo": {
          "status": "ok",
          "timestamp": 1519927964711,
          "user_tz": -330,
          "elapsed": 1679,
          "user": {
            "displayName": "Anmol Dua",
            "photoUrl": "https://lh3.googleusercontent.com/a/default-user=s128",
            "userId": "105983295350785523892"
          }
        }
      },
      "cell_type": "code",
      "source": [
        "!wget = 'https://raw.githubusercontent.com/anmolduainter/Diagnostic-and-Prognostic-Breast-Cancer/master/Dataset/Diagnostic.txt'\n",
        "!wget = 'https://raw.githubusercontent.com/anmolduainter/Diagnostic-and-Prognostic-Breast-Cancer/master/Dataset/Prognostic.txt'"
      ],
      "execution_count": 6,
      "outputs": [
        {
          "output_type": "stream",
          "text": [
            "--2018-03-01 18:08:18--  http://=/\n",
            "Resolving = (=)... failed: Name or service not known.\n",
            "wget: unable to resolve host address ‘=’\n",
            "--2018-03-01 18:08:18--  https://raw.githubusercontent.com/anmolduainter/Diagnostic-and-Prognostic-Breast-Cancer/master/Dataset/Diagnostic.txt\n",
            "Resolving raw.githubusercontent.com (raw.githubusercontent.com)... 151.101.0.133, 151.101.64.133, 151.101.128.133, ...\n",
            "Connecting to raw.githubusercontent.com (raw.githubusercontent.com)|151.101.0.133|:443... connected.\n",
            "HTTP request sent, awaiting response... 200 OK\n",
            "Length: 124103 (121K) [text/plain]\n",
            "Saving to: ‘Diagnostic.txt’\n",
            "\n",
            "Diagnostic.txt      100%[===================>] 121.19K  --.-KB/s    in 0.04s   \n",
            "\n",
            "2018-03-01 18:08:18 (3.00 MB/s) - ‘Diagnostic.txt’ saved [124103/124103]\n",
            "\n",
            "FINISHED --2018-03-01 18:08:18--\n",
            "Total wall clock time: 0.2s\n",
            "Downloaded: 1 files, 121K in 0.04s (3.00 MB/s)\n",
            "--2018-03-01 18:08:19--  http://=/\n",
            "Resolving = (=)... failed: Name or service not known.\n",
            "wget: unable to resolve host address ‘=’\n",
            "--2018-03-01 18:08:19--  https://raw.githubusercontent.com/anmolduainter/Diagnostic-and-Prognostic-Breast-Cancer/master/Dataset/Prognostic.txt\n",
            "Resolving raw.githubusercontent.com (raw.githubusercontent.com)... 151.101.0.133, 151.101.64.133, 151.101.128.133, ...\n",
            "Connecting to raw.githubusercontent.com (raw.githubusercontent.com)|151.101.0.133|:443... connected.\n",
            "HTTP request sent, awaiting response... 200 OK\n",
            "Length: 44234 (43K) [text/plain]\n",
            "Saving to: ‘Prognostic.txt’\n",
            "\n",
            "Prognostic.txt      100%[===================>]  43.20K  --.-KB/s    in 0.02s   \n",
            "\n",
            "2018-03-01 18:08:19 (1.73 MB/s) - ‘Prognostic.txt’ saved [44234/44234]\n",
            "\n",
            "FINISHED --2018-03-01 18:08:19--\n",
            "Total wall clock time: 0.1s\n",
            "Downloaded: 1 files, 43K in 0.02s (1.73 MB/s)\n"
          ],
          "name": "stdout"
        }
      ]
    },
    {
      "metadata": {
        "id": "zLn-gpwUxFFN",
        "colab_type": "code",
        "colab": {
          "autoexec": {
            "startup": false,
            "wait_interval": 0
          },
          "output_extras": [
            {
              "item_id": 1
            }
          ],
          "base_uri": "https://localhost:8080/",
          "height": 34
        },
        "outputId": "0cc3d2e0-95f2-4ce0-e93a-2e9e35c10360",
        "executionInfo": {
          "status": "ok",
          "timestamp": 1519927976582,
          "user_tz": -330,
          "elapsed": 959,
          "user": {
            "displayName": "Anmol Dua",
            "photoUrl": "https://lh3.googleusercontent.com/a/default-user=s128",
            "userId": "105983295350785523892"
          }
        }
      },
      "cell_type": "code",
      "source": [
        "!ls"
      ],
      "execution_count": 7,
      "outputs": [
        {
          "output_type": "stream",
          "text": [
            "datalab  Diagnostic.txt  Prognostic.txt\r\n"
          ],
          "name": "stdout"
        }
      ]
    },
    {
      "metadata": {
        "id": "cHiwts2rwcJr",
        "colab_type": "code",
        "colab": {
          "autoexec": {
            "startup": false,
            "wait_interval": 0
          }
        }
      },
      "cell_type": "code",
      "source": [
        "import numpy as np\n",
        "import pandas as pd\n",
        "from tpot import TPOTClassifier\n",
        "from sklearn.model_selection import train_test_split\n",
        "from sklearn.preprocessing import LabelEncoder"
      ],
      "execution_count": 0,
      "outputs": []
    },
    {
      "metadata": {
        "id": "Z0rXlw8_wrZg",
        "colab_type": "text"
      },
      "cell_type": "markdown",
      "source": [
        "# Diagnostic"
      ]
    },
    {
      "metadata": {
        "id": "S-GGZgR_wpYC",
        "colab_type": "code",
        "colab": {
          "autoexec": {
            "startup": false,
            "wait_interval": 0
          }
        }
      },
      "cell_type": "code",
      "source": [
        "diag = pd.read_csv('Diagnostic.txt' , sep = ',' , header = None)"
      ],
      "execution_count": 0,
      "outputs": []
    },
    {
      "metadata": {
        "id": "Rl0-ju8_3clh",
        "colab_type": "code",
        "colab": {
          "autoexec": {
            "startup": false,
            "wait_interval": 0
          },
          "output_extras": [
            {
              "item_id": 1
            }
          ],
          "base_uri": "https://localhost:8080/",
          "height": 34
        },
        "outputId": "429a47aa-9503-40c5-a9f9-3f6d577c5321",
        "executionInfo": {
          "status": "ok",
          "timestamp": 1519929647627,
          "user_tz": -330,
          "elapsed": 2586,
          "user": {
            "displayName": "Anmol Dua",
            "photoUrl": "https://lh3.googleusercontent.com/a/default-user=s128",
            "userId": "105983295350785523892"
          }
        }
      },
      "cell_type": "code",
      "source": [
        "diag.shape"
      ],
      "execution_count": 16,
      "outputs": [
        {
          "output_type": "execute_result",
          "data": {
            "text/plain": [
              "(569, 32)"
            ]
          },
          "metadata": {
            "tags": []
          },
          "execution_count": 16
        }
      ]
    },
    {
      "metadata": {
        "id": "ZKHQZHydxQH5",
        "colab_type": "code",
        "colab": {
          "autoexec": {
            "startup": false,
            "wait_interval": 0
          },
          "output_extras": [
            {
              "item_id": 1
            }
          ],
          "base_uri": "https://localhost:8080/",
          "height": 191
        },
        "outputId": "953da4aa-639d-4087-9e67-bce1355b81bc",
        "executionInfo": {
          "status": "ok",
          "timestamp": 1519928050865,
          "user_tz": -330,
          "elapsed": 1047,
          "user": {
            "displayName": "Anmol Dua",
            "photoUrl": "https://lh3.googleusercontent.com/a/default-user=s128",
            "userId": "105983295350785523892"
          }
        }
      },
      "cell_type": "code",
      "source": [
        "diag.head(3)"
      ],
      "execution_count": 11,
      "outputs": [
        {
          "output_type": "execute_result",
          "data": {
            "text/html": [
              "<div>\n",
              "<style scoped>\n",
              "    .dataframe tbody tr th:only-of-type {\n",
              "        vertical-align: middle;\n",
              "    }\n",
              "\n",
              "    .dataframe tbody tr th {\n",
              "        vertical-align: top;\n",
              "    }\n",
              "\n",
              "    .dataframe thead th {\n",
              "        text-align: right;\n",
              "    }\n",
              "</style>\n",
              "<table border=\"1\" class=\"dataframe\">\n",
              "  <thead>\n",
              "    <tr style=\"text-align: right;\">\n",
              "      <th></th>\n",
              "      <th>0</th>\n",
              "      <th>1</th>\n",
              "      <th>2</th>\n",
              "      <th>3</th>\n",
              "      <th>4</th>\n",
              "      <th>5</th>\n",
              "      <th>6</th>\n",
              "      <th>7</th>\n",
              "      <th>8</th>\n",
              "      <th>9</th>\n",
              "      <th>...</th>\n",
              "      <th>22</th>\n",
              "      <th>23</th>\n",
              "      <th>24</th>\n",
              "      <th>25</th>\n",
              "      <th>26</th>\n",
              "      <th>27</th>\n",
              "      <th>28</th>\n",
              "      <th>29</th>\n",
              "      <th>30</th>\n",
              "      <th>31</th>\n",
              "    </tr>\n",
              "  </thead>\n",
              "  <tbody>\n",
              "    <tr>\n",
              "      <th>0</th>\n",
              "      <td>842302</td>\n",
              "      <td>M</td>\n",
              "      <td>17.99</td>\n",
              "      <td>10.38</td>\n",
              "      <td>122.8</td>\n",
              "      <td>1001.0</td>\n",
              "      <td>0.11840</td>\n",
              "      <td>0.27760</td>\n",
              "      <td>0.3001</td>\n",
              "      <td>0.14710</td>\n",
              "      <td>...</td>\n",
              "      <td>25.38</td>\n",
              "      <td>17.33</td>\n",
              "      <td>184.6</td>\n",
              "      <td>2019.0</td>\n",
              "      <td>0.1622</td>\n",
              "      <td>0.6656</td>\n",
              "      <td>0.7119</td>\n",
              "      <td>0.2654</td>\n",
              "      <td>0.4601</td>\n",
              "      <td>0.11890</td>\n",
              "    </tr>\n",
              "    <tr>\n",
              "      <th>1</th>\n",
              "      <td>842517</td>\n",
              "      <td>M</td>\n",
              "      <td>20.57</td>\n",
              "      <td>17.77</td>\n",
              "      <td>132.9</td>\n",
              "      <td>1326.0</td>\n",
              "      <td>0.08474</td>\n",
              "      <td>0.07864</td>\n",
              "      <td>0.0869</td>\n",
              "      <td>0.07017</td>\n",
              "      <td>...</td>\n",
              "      <td>24.99</td>\n",
              "      <td>23.41</td>\n",
              "      <td>158.8</td>\n",
              "      <td>1956.0</td>\n",
              "      <td>0.1238</td>\n",
              "      <td>0.1866</td>\n",
              "      <td>0.2416</td>\n",
              "      <td>0.1860</td>\n",
              "      <td>0.2750</td>\n",
              "      <td>0.08902</td>\n",
              "    </tr>\n",
              "    <tr>\n",
              "      <th>2</th>\n",
              "      <td>84300903</td>\n",
              "      <td>M</td>\n",
              "      <td>19.69</td>\n",
              "      <td>21.25</td>\n",
              "      <td>130.0</td>\n",
              "      <td>1203.0</td>\n",
              "      <td>0.10960</td>\n",
              "      <td>0.15990</td>\n",
              "      <td>0.1974</td>\n",
              "      <td>0.12790</td>\n",
              "      <td>...</td>\n",
              "      <td>23.57</td>\n",
              "      <td>25.53</td>\n",
              "      <td>152.5</td>\n",
              "      <td>1709.0</td>\n",
              "      <td>0.1444</td>\n",
              "      <td>0.4245</td>\n",
              "      <td>0.4504</td>\n",
              "      <td>0.2430</td>\n",
              "      <td>0.3613</td>\n",
              "      <td>0.08758</td>\n",
              "    </tr>\n",
              "  </tbody>\n",
              "</table>\n",
              "<p>3 rows × 32 columns</p>\n",
              "</div>"
            ],
            "text/plain": [
              "         0  1      2      3      4       5        6        7       8   \\\n",
              "0    842302  M  17.99  10.38  122.8  1001.0  0.11840  0.27760  0.3001   \n",
              "1    842517  M  20.57  17.77  132.9  1326.0  0.08474  0.07864  0.0869   \n",
              "2  84300903  M  19.69  21.25  130.0  1203.0  0.10960  0.15990  0.1974   \n",
              "\n",
              "        9    ...        22     23     24      25      26      27      28  \\\n",
              "0  0.14710   ...     25.38  17.33  184.6  2019.0  0.1622  0.6656  0.7119   \n",
              "1  0.07017   ...     24.99  23.41  158.8  1956.0  0.1238  0.1866  0.2416   \n",
              "2  0.12790   ...     23.57  25.53  152.5  1709.0  0.1444  0.4245  0.4504   \n",
              "\n",
              "       29      30       31  \n",
              "0  0.2654  0.4601  0.11890  \n",
              "1  0.1860  0.2750  0.08902  \n",
              "2  0.2430  0.3613  0.08758  \n",
              "\n",
              "[3 rows x 32 columns]"
            ]
          },
          "metadata": {
            "tags": []
          },
          "execution_count": 11
        }
      ]
    },
    {
      "metadata": {
        "id": "pBRVrPYAxR6k",
        "colab_type": "code",
        "colab": {
          "autoexec": {
            "startup": false,
            "wait_interval": 0
          },
          "output_extras": [
            {
              "item_id": 1
            }
          ],
          "base_uri": "https://localhost:8080/",
          "height": 408
        },
        "outputId": "2fbf761e-c282-4adc-9cf8-a69033c7ca67",
        "executionInfo": {
          "status": "ok",
          "timestamp": 1519931291827,
          "user_tz": -330,
          "elapsed": 965,
          "user": {
            "displayName": "Anmol Dua",
            "photoUrl": "https://lh3.googleusercontent.com/a/default-user=s128",
            "userId": "105983295350785523892"
          }
        }
      },
      "cell_type": "code",
      "source": [
        "X = diag.iloc[ : , 2:32 ].values\n",
        "Y = diag.iloc[ : , 1].values\n",
        "l = LabelEncoder()\n",
        "Y = l.fit_transform(Y)\n",
        "print (X)\n",
        "print(Y)"
      ],
      "execution_count": 20,
      "outputs": [
        {
          "output_type": "stream",
          "text": [
            "[[1.799e+01 1.038e+01 1.228e+02 ... 2.654e-01 4.601e-01 1.189e-01]\n",
            " [2.057e+01 1.777e+01 1.329e+02 ... 1.860e-01 2.750e-01 8.902e-02]\n",
            " [1.969e+01 2.125e+01 1.300e+02 ... 2.430e-01 3.613e-01 8.758e-02]\n",
            " ...\n",
            " [1.660e+01 2.808e+01 1.083e+02 ... 1.418e-01 2.218e-01 7.820e-02]\n",
            " [2.060e+01 2.933e+01 1.401e+02 ... 2.650e-01 4.087e-01 1.240e-01]\n",
            " [7.760e+00 2.454e+01 4.792e+01 ... 0.000e+00 2.871e-01 7.039e-02]]\n",
            "[1 1 1 1 1 1 1 1 1 1 1 1 1 1 1 1 1 1 1 0 0 0 1 1 1 1 1 1 1 1 1 1 1 1 1 1 1\n",
            " 0 1 1 1 1 1 1 1 1 0 1 0 0 0 0 0 1 1 0 1 1 0 0 0 0 1 0 1 1 0 0 0 0 1 0 1 1\n",
            " 0 1 0 1 1 0 0 0 1 1 0 1 1 1 0 0 0 1 0 0 1 1 0 0 0 1 1 0 0 0 0 1 0 0 1 0 0\n",
            " 0 0 0 0 0 0 1 1 1 0 1 1 0 0 0 1 1 0 1 0 1 1 0 1 1 0 0 1 0 0 1 0 0 0 0 1 0\n",
            " 0 0 0 0 0 0 0 0 1 0 0 0 0 1 1 0 1 0 0 1 1 0 0 1 1 0 0 0 0 1 0 0 1 1 1 0 1\n",
            " 0 1 0 0 0 1 0 0 1 1 0 1 1 1 1 0 1 1 1 0 1 0 1 0 0 1 0 1 1 1 1 0 0 1 1 0 0\n",
            " 0 1 0 0 0 0 0 1 1 0 0 1 0 0 1 1 0 1 0 0 0 0 1 0 0 0 0 0 1 0 1 1 1 1 1 1 1\n",
            " 1 1 1 1 1 1 1 0 0 0 0 0 0 1 0 1 0 0 1 0 0 1 0 1 1 0 0 0 0 0 0 0 0 0 0 0 0\n",
            " 0 1 0 0 1 0 1 0 0 0 0 0 0 0 0 0 0 0 0 0 0 1 0 0 0 1 0 1 0 0 0 0 1 1 1 0 0\n",
            " 0 0 1 0 1 0 1 0 0 0 1 0 0 0 0 0 0 0 1 1 1 0 0 0 0 0 0 0 0 0 0 0 1 1 0 1 1\n",
            " 1 0 1 1 0 0 0 0 0 1 0 0 0 0 0 1 0 0 0 1 0 0 1 1 0 0 0 0 0 0 1 0 0 0 0 0 0\n",
            " 0 1 0 0 0 0 0 1 0 0 1 0 0 0 0 0 0 0 0 0 0 0 0 1 0 1 1 0 1 0 0 0 0 0 1 0 0\n",
            " 1 0 1 0 0 1 0 1 0 0 0 0 0 0 0 0 1 1 0 0 0 0 0 0 1 0 0 0 0 0 0 0 0 0 0 1 0\n",
            " 0 0 0 0 0 0 1 0 1 0 0 1 0 0 0 0 0 1 1 0 1 0 1 0 0 0 0 0 1 0 0 1 0 1 0 1 1\n",
            " 0 0 0 1 0 0 0 0 0 0 0 0 0 0 0 1 0 1 1 0 0 0 0 0 0 0 0 0 0 0 0 0 0 0 0 0 0\n",
            " 0 0 0 0 0 0 0 1 1 1 1 1 1 0]\n"
          ],
          "name": "stdout"
        }
      ]
    },
    {
      "metadata": {
        "id": "mNl1OSnK3CqY",
        "colab_type": "code",
        "colab": {
          "autoexec": {
            "startup": false,
            "wait_interval": 0
          }
        }
      },
      "cell_type": "code",
      "source": [
        "X_train, X_test, y_train, y_test = train_test_split(X, Y, test_size = 0.2, random_state = 42)"
      ],
      "execution_count": 0,
      "outputs": []
    },
    {
      "metadata": {
        "id": "EdDKn8iI3Lsc",
        "colab_type": "code",
        "colab": {
          "autoexec": {
            "startup": false,
            "wait_interval": 0
          },
          "output_extras": [
            {
              "item_id": 89
            },
            {
              "item_id": 90
            },
            {
              "item_id": 157
            },
            {
              "item_id": 158
            },
            {
              "item_id": 226
            },
            {
              "item_id": 227
            },
            {
              "item_id": 285
            },
            {
              "item_id": 286
            },
            {
              "item_id": 338
            },
            {
              "item_id": 340
            },
            {
              "item_id": 341
            }
          ],
          "base_uri": "https://localhost:8080/",
          "height": 292
        },
        "outputId": "91041b9b-7fbe-49a8-94ce-687610cedb89",
        "executionInfo": {
          "status": "ok",
          "timestamp": 1519932121479,
          "user_tz": -330,
          "elapsed": 793569,
          "user": {
            "displayName": "Anmol Dua",
            "photoUrl": "https://lh3.googleusercontent.com/a/default-user=s128",
            "userId": "105983295350785523892"
          }
        }
      },
      "cell_type": "code",
      "source": [
        "tpot = TPOTClassifier(generations=5 , verbosity=2)\n",
        "tpot.fit(X_train, y_train)"
      ],
      "execution_count": 22,
      "outputs": [
        {
          "output_type": "stream",
          "text": [
            "Optimization Progress:  33%|███▎      | 200/600 [01:56<06:46,  1.02s/pipeline]"
          ],
          "name": "stderr"
        },
        {
          "output_type": "stream",
          "text": [
            "Generation 1 - Current best internal CV score: 0.975725964856\n"
          ],
          "name": "stdout"
        },
        {
          "output_type": "stream",
          "text": [
            "Optimization Progress:  50%|█████     | 300/600 [03:54<03:37,  1.38pipeline/s]"
          ],
          "name": "stderr"
        },
        {
          "output_type": "stream",
          "text": [
            "Generation 2 - Current best internal CV score: 0.980122100122\n"
          ],
          "name": "stdout"
        },
        {
          "output_type": "stream",
          "text": [
            "Optimization Progress:  67%|██████▋   | 400/600 [05:54<02:24,  1.39pipeline/s]"
          ],
          "name": "stderr"
        },
        {
          "output_type": "stream",
          "text": [
            "Generation 3 - Current best internal CV score: 0.980122100122\n"
          ],
          "name": "stdout"
        },
        {
          "output_type": "stream",
          "text": [
            "Optimization Progress:  83%|████████▎ | 500/600 [09:26<01:08,  1.46pipeline/s]"
          ],
          "name": "stderr"
        },
        {
          "output_type": "stream",
          "text": [
            "Generation 4 - Current best internal CV score: 0.980122100122\n"
          ],
          "name": "stdout"
        },
        {
          "output_type": "stream",
          "text": [
            ""
          ],
          "name": "stderr"
        },
        {
          "output_type": "stream",
          "text": [
            "Generation 5 - Current best internal CV score: 0.980122100122\n",
            "\n",
            "Best pipeline: GradientBoostingClassifier(LogisticRegression(input_matrix, C=0.5, dual=True, penalty=l2), learning_rate=0.1, max_depth=5, max_features=0.8500000000000001, min_samples_leaf=19, min_samples_split=13, n_estimators=100, subsample=0.6500000000000001)\n"
          ],
          "name": "stdout"
        },
        {
          "output_type": "execute_result",
          "data": {
            "text/plain": [
              "TPOTClassifier(config_dict={'sklearn.ensemble.GradientBoostingClassifier': {'max_features': array([0.05, 0.1 , 0.15, 0.2 , 0.25, 0.3 , 0.35, 0.4 , 0.45, 0.5 , 0.55,\n",
              "       0.6 , 0.65, 0.7 , 0.75, 0.8 , 0.85, 0.9 , 0.95, 1.  ]), 'learning_rate': [0.001, 0.01, 0.1, 0.5, 1.0], 'min_samples_leaf': [1, 2, 3, 4, 5, 6, 7...  0.6 , 0.65, 0.7 , 0.75, 0.8 , 0.85, 0.9 , 0.95, 1.  ])}, 'sklearn.preprocessing.RobustScaler': {}},\n",
              "        crossover_rate=0.1, cv=5, disable_update_check=False,\n",
              "        early_stop=None, generations=5, max_eval_time_mins=5,\n",
              "        max_time_mins=None, memory=None, mutation_rate=0.9, n_jobs=1,\n",
              "        offspring_size=100, periodic_checkpoint_folder=None,\n",
              "        population_size=100, random_state=None, scoring=None,\n",
              "        subsample=1.0, verbosity=2, warm_start=False)"
            ]
          },
          "metadata": {
            "tags": []
          },
          "execution_count": 22
        }
      ]
    },
    {
      "metadata": {
        "id": "yDia9veP3N1I",
        "colab_type": "code",
        "colab": {
          "autoexec": {
            "startup": false,
            "wait_interval": 0
          },
          "output_extras": [
            {
              "item_id": 1
            }
          ],
          "base_uri": "https://localhost:8080/",
          "height": 34
        },
        "outputId": "a6a921e3-9de9-4c60-fa0a-89d58e5342dc",
        "executionInfo": {
          "status": "ok",
          "timestamp": 1519932263310,
          "user_tz": -330,
          "elapsed": 1083,
          "user": {
            "displayName": "Anmol Dua",
            "photoUrl": "https://lh3.googleusercontent.com/a/default-user=s128",
            "userId": "105983295350785523892"
          }
        }
      },
      "cell_type": "code",
      "source": [
        "print(tpot.score(X_test, y_test))"
      ],
      "execution_count": 23,
      "outputs": [
        {
          "output_type": "stream",
          "text": [
            "0.9649122807017544\n"
          ],
          "name": "stdout"
        }
      ]
    },
    {
      "metadata": {
        "id": "NnzAwLolBvZ4",
        "colab_type": "text"
      },
      "cell_type": "markdown",
      "source": [
        "# Prognostic"
      ]
    },
    {
      "metadata": {
        "id": "BcVBHzIgBulC",
        "colab_type": "code",
        "colab": {
          "autoexec": {
            "startup": false,
            "wait_interval": 0
          }
        }
      },
      "cell_type": "code",
      "source": [
        "prog = pd.read_csv('Prognostic.txt' , sep = ',' , header = None)"
      ],
      "execution_count": 0,
      "outputs": []
    },
    {
      "metadata": {
        "id": "QxXyl7qfBcbU",
        "colab_type": "code",
        "colab": {
          "autoexec": {
            "startup": false,
            "wait_interval": 0
          },
          "output_extras": [
            {
              "item_id": 1
            }
          ],
          "base_uri": "https://localhost:8080/",
          "height": 34
        },
        "outputId": "784f542d-2c18-4371-d9ba-3b3c54e476c8",
        "executionInfo": {
          "status": "ok",
          "timestamp": 1519932462173,
          "user_tz": -330,
          "elapsed": 877,
          "user": {
            "displayName": "Anmol Dua",
            "photoUrl": "https://lh3.googleusercontent.com/a/default-user=s128",
            "userId": "105983295350785523892"
          }
        }
      },
      "cell_type": "code",
      "source": [
        "prog.shape"
      ],
      "execution_count": 25,
      "outputs": [
        {
          "output_type": "execute_result",
          "data": {
            "text/plain": [
              "(198, 35)"
            ]
          },
          "metadata": {
            "tags": []
          },
          "execution_count": 25
        }
      ]
    },
    {
      "metadata": {
        "id": "jPJu-o86CNCM",
        "colab_type": "code",
        "colab": {
          "autoexec": {
            "startup": false,
            "wait_interval": 0
          },
          "output_extras": [
            {
              "item_id": 1
            }
          ],
          "base_uri": "https://localhost:8080/",
          "height": 238
        },
        "outputId": "f1cab1d5-5e0f-4fcb-d8b5-987c828ddee5",
        "executionInfo": {
          "status": "ok",
          "timestamp": 1519932572806,
          "user_tz": -330,
          "elapsed": 904,
          "user": {
            "displayName": "Anmol Dua",
            "photoUrl": "https://lh3.googleusercontent.com/a/default-user=s128",
            "userId": "105983295350785523892"
          }
        }
      },
      "cell_type": "code",
      "source": [
        "X = prog.iloc[ : , 2:32 ].values\n",
        "Y = prog.iloc[ : , 1].values\n",
        "l = LabelEncoder()\n",
        "Y = l.fit_transform(Y)\n",
        "print (X)\n",
        "print(Y)"
      ],
      "execution_count": 26,
      "outputs": [
        {
          "output_type": "stream",
          "text": [
            "[[3.100e+01 1.802e+01 2.760e+01 ... 3.140e-01 1.170e-01 2.677e-01]\n",
            " [6.100e+01 1.799e+01 1.038e+01 ... 7.119e-01 2.654e-01 4.601e-01]\n",
            " [1.160e+02 2.137e+01 1.744e+01 ... 3.414e-01 2.032e-01 4.334e-01]\n",
            " ...\n",
            " [1.200e+01 1.717e+01 2.919e+01 ... 2.141e-01 9.520e-02 3.362e-01]\n",
            " [3.000e+00 2.142e+01 2.284e+01 ... 5.411e-01 2.215e-01 2.832e-01]\n",
            " [6.000e+00 1.670e+01 2.813e+01 ... 3.455e-01 1.317e-01 3.035e-01]]\n",
            "[0 0 0 0 1 1 0 1 0 0 0 0 0 1 0 1 0 1 0 0 0 0 0 0 0 0 0 0 0 0 0 0 0 0 1 0 0\n",
            " 1 0 1 1 0 1 1 0 0 1 0 1 0 1 0 0 0 0 0 1 0 0 1 0 0 1 0 0 0 0 1 0 1 0 0 0 0\n",
            " 0 1 0 0 0 0 0 1 0 0 0 0 0 0 1 0 0 0 0 0 0 0 0 0 0 0 0 0 0 0 0 1 0 0 0 1 1\n",
            " 0 1 0 1 0 0 0 0 0 1 0 0 0 0 1 0 0 1 1 0 1 1 0 0 1 0 0 0 0 0 0 0 1 0 1 0 1\n",
            " 0 0 1 0 1 0 0 1 0 1 0 1 0 1 0 0 0 0 0 0 0 0 0 0 0 0 0 0 1 1 0 0 0 0 0 0 0\n",
            " 0 0 0 0 0 0 0 0 0 0 0 1 0]\n"
          ],
          "name": "stdout"
        }
      ]
    },
    {
      "metadata": {
        "id": "R_hH48xtCoCd",
        "colab_type": "code",
        "colab": {
          "autoexec": {
            "startup": false,
            "wait_interval": 0
          }
        }
      },
      "cell_type": "code",
      "source": [
        "X_train, X_test, y_train, y_test = train_test_split(X, Y, test_size = 0.2, random_state = 42)"
      ],
      "execution_count": 0,
      "outputs": []
    },
    {
      "metadata": {
        "id": "Ulc9qF_bCtHr",
        "colab_type": "code",
        "colab": {
          "autoexec": {
            "startup": false,
            "wait_interval": 0
          },
          "output_extras": [
            {
              "item_id": 78
            },
            {
              "item_id": 79
            },
            {
              "item_id": 116
            },
            {
              "item_id": 117
            },
            {
              "item_id": 161
            },
            {
              "item_id": 162
            },
            {
              "item_id": 213
            },
            {
              "item_id": 214
            },
            {
              "item_id": 280
            },
            {
              "item_id": 282
            },
            {
              "item_id": 283
            }
          ],
          "base_uri": "https://localhost:8080/",
          "height": 292
        },
        "outputId": "8800404b-7159-4a27-e23d-6e7123faa080",
        "executionInfo": {
          "status": "ok",
          "timestamp": 1519933003988,
          "user_tz": -330,
          "elapsed": 399799,
          "user": {
            "displayName": "Anmol Dua",
            "photoUrl": "https://lh3.googleusercontent.com/a/default-user=s128",
            "userId": "105983295350785523892"
          }
        }
      },
      "cell_type": "code",
      "source": [
        "tpot = TPOTClassifier(generations=5 , verbosity=2)\n",
        "tpot.fit(X_train, y_train)"
      ],
      "execution_count": 28,
      "outputs": [
        {
          "output_type": "stream",
          "text": [
            "Optimization Progress:  33%|███▎      | 200/600 [01:38<03:28,  1.92pipeline/s]"
          ],
          "name": "stderr"
        },
        {
          "output_type": "stream",
          "text": [
            "Generation 1 - Current best internal CV score: 0.7975\n"
          ],
          "name": "stdout"
        },
        {
          "output_type": "stream",
          "text": [
            "Optimization Progress:  50%|█████     | 300/600 [02:30<04:11,  1.19pipeline/s]"
          ],
          "name": "stderr"
        },
        {
          "output_type": "stream",
          "text": [
            "Generation 2 - Current best internal CV score: 0.798333333333\n"
          ],
          "name": "stdout"
        },
        {
          "output_type": "stream",
          "text": [
            "Optimization Progress:  67%|██████▋   | 400/600 [03:36<04:18,  1.29s/pipeline]"
          ],
          "name": "stderr"
        },
        {
          "output_type": "stream",
          "text": [
            "Generation 3 - Current best internal CV score: 0.804583333333\n"
          ],
          "name": "stdout"
        },
        {
          "output_type": "stream",
          "text": [
            "Optimization Progress:  83%|████████▎ | 500/600 [04:51<00:42,  2.36pipeline/s]"
          ],
          "name": "stderr"
        },
        {
          "output_type": "stream",
          "text": [
            "Generation 4 - Current best internal CV score: 0.823333333333\n"
          ],
          "name": "stdout"
        },
        {
          "output_type": "stream",
          "text": [
            ""
          ],
          "name": "stderr"
        },
        {
          "output_type": "stream",
          "text": [
            "Generation 5 - Current best internal CV score: 0.823333333333\n",
            "\n",
            "Best pipeline: ExtraTreesClassifier(PolynomialFeatures(input_matrix, degree=2, include_bias=False, interaction_only=False), bootstrap=True, criterion=entropy, max_features=0.55, min_samples_leaf=1, min_samples_split=17, n_estimators=100)\n"
          ],
          "name": "stdout"
        },
        {
          "output_type": "execute_result",
          "data": {
            "text/plain": [
              "TPOTClassifier(config_dict={'sklearn.ensemble.GradientBoostingClassifier': {'max_features': array([0.05, 0.1 , 0.15, 0.2 , 0.25, 0.3 , 0.35, 0.4 , 0.45, 0.5 , 0.55,\n",
              "       0.6 , 0.65, 0.7 , 0.75, 0.8 , 0.85, 0.9 , 0.95, 1.  ]), 'learning_rate': [0.001, 0.01, 0.1, 0.5, 1.0], 'min_samples_leaf': [1, 2, 3, 4, 5, 6, 7...  0.6 , 0.65, 0.7 , 0.75, 0.8 , 0.85, 0.9 , 0.95, 1.  ])}, 'sklearn.preprocessing.RobustScaler': {}},\n",
              "        crossover_rate=0.1, cv=5, disable_update_check=False,\n",
              "        early_stop=None, generations=5, max_eval_time_mins=5,\n",
              "        max_time_mins=None, memory=None, mutation_rate=0.9, n_jobs=1,\n",
              "        offspring_size=100, periodic_checkpoint_folder=None,\n",
              "        population_size=100, random_state=None, scoring=None,\n",
              "        subsample=1.0, verbosity=2, warm_start=False)"
            ]
          },
          "metadata": {
            "tags": []
          },
          "execution_count": 28
        }
      ]
    },
    {
      "metadata": {
        "id": "jBFrATqZCv63",
        "colab_type": "code",
        "colab": {
          "autoexec": {
            "startup": false,
            "wait_interval": 0
          },
          "output_extras": [
            {
              "item_id": 1
            }
          ],
          "base_uri": "https://localhost:8080/",
          "height": 34
        },
        "outputId": "8407a31f-896b-441e-b6f8-bcd005987a70",
        "executionInfo": {
          "status": "ok",
          "timestamp": 1519933007976,
          "user_tz": -330,
          "elapsed": 835,
          "user": {
            "displayName": "Anmol Dua",
            "photoUrl": "https://lh3.googleusercontent.com/a/default-user=s128",
            "userId": "105983295350785523892"
          }
        }
      },
      "cell_type": "code",
      "source": [
        "print(tpot.score(X_test, y_test))"
      ],
      "execution_count": 29,
      "outputs": [
        {
          "output_type": "stream",
          "text": [
            "0.85\n"
          ],
          "name": "stdout"
        }
      ]
    }
  ]
}